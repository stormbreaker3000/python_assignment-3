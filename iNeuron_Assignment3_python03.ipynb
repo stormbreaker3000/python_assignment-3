{
 "cells": [
  {
   "cell_type": "markdown",
   "metadata": {},
   "source": [
    "Course : MACHINE LEARNING WITH DEPLOYMENT AND DEEP LEARNING"
   ]
  },
  {
   "cell_type": "markdown",
   "metadata": {},
   "source": [
    "Python Assignment - 03 By Subham Bagchi"
   ]
  },
  {
   "cell_type": "markdown",
   "metadata": {},
   "source": [
    "1.1 Write a Python Program to implement your own myreduce() function which works exactly\n",
    "like Python's built-in function reduce()"
   ]
  },
  {
   "cell_type": "code",
   "execution_count": 4,
   "metadata": {},
   "outputs": [
    {
     "name": "stdout",
     "output_type": "stream",
     "text": [
      "Enter number : 5\n",
      "List of numbers :  [1, 2, 3, 4, 5]\n",
      "Sum of numbers in list : 15\n"
     ]
    }
   ],
   "source": [
    "#Sum of natural numbers by built in reduce() function\n",
    "\n",
    "n = int(input('Enter number : '))\n",
    "l = list(range(1,n+1))\n",
    "\n",
    "#import reduce function\n",
    "from functools import reduce\n",
    "s = reduce(lambda x,y : x+y , l)\n",
    "print('List of numbers : ',l)\n",
    "print('Sum of numbers in list :',s)"
   ]
  },
  {
   "cell_type": "code",
   "execution_count": 13,
   "metadata": {},
   "outputs": [
    {
     "name": "stdout",
     "output_type": "stream",
     "text": [
      "Enter number : 5\n",
      "List of numbers :  [1, 2, 3, 4, 5]\n",
      "Sum of numbers in list : 15\n"
     ]
    }
   ],
   "source": [
    "#Now I will implement my own function which will work just like in built reduce function\n",
    "\n",
    "def myreduce(num):\n",
    "    l = list(range(1,num+1))\n",
    "    s=0\n",
    "    for i in l:\n",
    "        s = s+i\n",
    "    return l,s\n",
    "\n",
    "number = int(input('Enter number : '))\n",
    "val = myreduce(number)\n",
    "print('List of numbers : ',val[0])\n",
    "print('Sum of numbers in list :',val[1])\n",
    "        "
   ]
  },
  {
   "cell_type": "markdown",
   "metadata": {},
   "source": [
    "1.2 Write a Python program to implement your own myfilter() function which works exactly\n",
    "like Python's built-in function filter()"
   ]
  },
  {
   "cell_type": "code",
   "execution_count": 9,
   "metadata": {},
   "outputs": [
    {
     "name": "stdout",
     "output_type": "stream",
     "text": [
      "Enter number 21\n",
      "List of numbers :  [1, 2, 3, 4, 5, 6, 7, 8, 9, 10, 11, 12, 13, 14, 15, 16, 17, 18, 19, 20, 21]\n",
      "List of Even numbers, which are multiples of 3 are :  [6, 12, 18]\n",
      "List of Odd numbers, which are multiples of 3 are :  [3, 9, 15, 21]\n"
     ]
    }
   ],
   "source": [
    "#Solution to filter even and odd numbers from list which are multiples of 3 by built in filter() function\n",
    "\n",
    "n = int(input('Enter number '))\n",
    "l = list(range(1,n+1))\n",
    "\n",
    "even_list = list(filter(lambda x: x%2==0,list(filter(lambda x: x%3==0,l))))\n",
    "\n",
    "odd_list = list(filter(lambda x: x%2!=0,list(filter(lambda x: x%3==0,l))))\n",
    "\n",
    "print('List of numbers : ',l)\n",
    "print('List of Even numbers, which are multiples of 3 are : ',even_list)\n",
    "print('List of Odd numbers, which are multiples of 3 are : ',odd_list)"
   ]
  },
  {
   "cell_type": "code",
   "execution_count": 14,
   "metadata": {},
   "outputs": [
    {
     "name": "stdout",
     "output_type": "stream",
     "text": [
      "Enter number : 21\n",
      "List of numbers :  [1, 2, 3, 4, 5, 6, 7, 8, 9, 10, 11, 12, 13, 14, 15, 16, 17, 18, 19, 20, 21]\n",
      "List of Even numbers, which are multiples of 3 are :  [6, 12, 18]\n",
      "List of Odd numbers, which are multiples of 3 are :  [3, 9, 15, 21]\n"
     ]
    }
   ],
   "source": [
    "#Now I will implement my own function which will work just like in built reduce function\n",
    "\n",
    "def myfilter(num):\n",
    "    l = list(range(1,num+1))\n",
    "    even_list = []\n",
    "    odd_list = []\n",
    "    for i in l:\n",
    "        if(i%3==0):\n",
    "            if(i%2==0):\n",
    "                even_list.append(i)\n",
    "            else:\n",
    "                odd_list.append(i)\n",
    "    return even_list,odd_list\n",
    "\n",
    "number = int(input('Enter number : '))\n",
    "val = myfilter(number)\n",
    "print('List of numbers : ',l)\n",
    "print('List of Even numbers, which are multiples of 3 are : ',val[0])\n",
    "print('List of Odd numbers, which are multiples of 3 are : ',val[1])        "
   ]
  },
  {
   "cell_type": "markdown",
   "metadata": {},
   "source": [
    "2. Implement List comprehensions to produce the following lists.\n",
    "   Write List comprehensions to produce the following Lists\n",
    "   \n",
    "    a.) ['x', 'xx', 'xxx', 'xxxx', 'y', 'yy', 'yyy', 'yyyy', 'z', 'zz', 'zzz', 'zzzz']\n",
    "    "
   ]
  },
  {
   "cell_type": "code",
   "execution_count": 30,
   "metadata": {},
   "outputs": [
    {
     "name": "stdout",
     "output_type": "stream",
     "text": [
      "['x', 'xx', 'xxx', 'xxxx', 'y', 'yy', 'yyy', 'yyyy', 'z', 'zz', 'zzz', 'zzzz']\n"
     ]
    }
   ],
   "source": [
    "l = list('xyz')\n",
    "p = [i*j for i in l for j in range(1,5)]\n",
    "print(p)"
   ]
  },
  {
   "cell_type": "markdown",
   "metadata": {},
   "source": [
    "b.) ['x', 'y', 'z', 'xx', 'yy', 'zz', 'xxx', 'yyy', 'zzz', 'xxxx', 'yyyy', 'zzzz']"
   ]
  },
  {
   "cell_type": "code",
   "execution_count": 31,
   "metadata": {},
   "outputs": [
    {
     "name": "stdout",
     "output_type": "stream",
     "text": [
      "['x', 'y', 'z', 'xx', 'yy', 'zz', 'xxx', 'yyy', 'zzz', 'xxxx', 'yyyy', 'zzzz']\n"
     ]
    }
   ],
   "source": [
    "l = list('xyz')\n",
    "p = [i*j for i in range(1,5) for j in l ]\n",
    "print(p)"
   ]
  },
  {
   "cell_type": "markdown",
   "metadata": {},
   "source": [
    "c.) [[2], [3], [4], [3], [4], [5], [4], [5], [6]] "
   ]
  },
  {
   "cell_type": "code",
   "execution_count": 35,
   "metadata": {},
   "outputs": [
    {
     "name": "stdout",
     "output_type": "stream",
     "text": [
      "[[2], [3], [4], [3], [4], [5], [4], [5], [6]]\n"
     ]
    }
   ],
   "source": [
    "l = [2,3,4]\n",
    "p = [[i+j] for i in l for j in range(0,3)]\n",
    "print(p)"
   ]
  },
  {
   "cell_type": "markdown",
   "metadata": {},
   "source": [
    "d.) [[2, 3, 4, 5], [3, 4, 5, 6],\n",
    "[4, 5, 6, 7], [5, 6, 7, 8]]"
   ]
  },
  {
   "cell_type": "code",
   "execution_count": 45,
   "metadata": {},
   "outputs": [
    {
     "name": "stdout",
     "output_type": "stream",
     "text": [
      "[[2, 3, 4, 5], [3, 4, 5, 6], [4, 5, 6, 7], [5, 6, 7, 8]]\n"
     ]
    }
   ],
   "source": [
    "l = [2,3,4,5]\n",
    "p = [[i+j for i in l] for j in range(0,4)]\n",
    "print(p)"
   ]
  },
  {
   "cell_type": "markdown",
   "metadata": {},
   "source": [
    "e.) [(1, 1), (2, 1), (3, 1), (1, 2), (2, 2), (3, 2), (1, 3), (2, 3), (3, 3)]"
   ]
  },
  {
   "cell_type": "code",
   "execution_count": 46,
   "metadata": {},
   "outputs": [
    {
     "name": "stdout",
     "output_type": "stream",
     "text": [
      "[(1, 1), (1, 2), (1, 3), (2, 1), (2, 2), (2, 3), (3, 1), (3, 2), (3, 3)]\n"
     ]
    }
   ],
   "source": [
    "l = [1,2,3]\n",
    "p = [(i,j) for i in l for j in l]\n",
    "print(p)"
   ]
  },
  {
   "cell_type": "code",
   "execution_count": null,
   "metadata": {},
   "outputs": [],
   "source": []
  }
 ],
 "metadata": {
  "kernelspec": {
   "display_name": "Python 3",
   "language": "python",
   "name": "python3"
  },
  "language_info": {
   "codemirror_mode": {
    "name": "ipython",
    "version": 3
   },
   "file_extension": ".py",
   "mimetype": "text/x-python",
   "name": "python",
   "nbconvert_exporter": "python",
   "pygments_lexer": "ipython3",
   "version": "3.7.3"
  }
 },
 "nbformat": 4,
 "nbformat_minor": 2
}
